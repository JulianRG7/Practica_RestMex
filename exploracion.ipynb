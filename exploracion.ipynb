{
 "cells": [
  {
   "cell_type": "code",
   "execution_count": 5,
   "id": "697df663",
   "metadata": {},
   "outputs": [],
   "source": [
    "import pandas as pd "
   ]
  },
  {
   "cell_type": "code",
   "execution_count": 10,
   "id": "4858217c",
   "metadata": {},
   "outputs": [
    {
     "data": {
      "text/html": [
       "<div>\n",
       "<style scoped>\n",
       "    .dataframe tbody tr th:only-of-type {\n",
       "        vertical-align: middle;\n",
       "    }\n",
       "\n",
       "    .dataframe tbody tr th {\n",
       "        vertical-align: top;\n",
       "    }\n",
       "\n",
       "    .dataframe thead th {\n",
       "        text-align: right;\n",
       "    }\n",
       "</style>\n",
       "<table border=\"1\" class=\"dataframe\">\n",
       "  <thead>\n",
       "    <tr style=\"text-align: right;\">\n",
       "      <th></th>\n",
       "      <th>Polarity</th>\n",
       "    </tr>\n",
       "  </thead>\n",
       "  <tbody>\n",
       "    <tr>\n",
       "      <th>count</th>\n",
       "      <td>208051.000000</td>\n",
       "    </tr>\n",
       "    <tr>\n",
       "      <th>mean</th>\n",
       "      <td>4.450500</td>\n",
       "    </tr>\n",
       "    <tr>\n",
       "      <th>std</th>\n",
       "      <td>0.932237</td>\n",
       "    </tr>\n",
       "    <tr>\n",
       "      <th>min</th>\n",
       "      <td>1.000000</td>\n",
       "    </tr>\n",
       "    <tr>\n",
       "      <th>25%</th>\n",
       "      <td>4.000000</td>\n",
       "    </tr>\n",
       "    <tr>\n",
       "      <th>50%</th>\n",
       "      <td>5.000000</td>\n",
       "    </tr>\n",
       "    <tr>\n",
       "      <th>75%</th>\n",
       "      <td>5.000000</td>\n",
       "    </tr>\n",
       "    <tr>\n",
       "      <th>max</th>\n",
       "      <td>5.000000</td>\n",
       "    </tr>\n",
       "  </tbody>\n",
       "</table>\n",
       "</div>"
      ],
      "text/plain": [
       "            Polarity\n",
       "count  208051.000000\n",
       "mean        4.450500\n",
       "std         0.932237\n",
       "min         1.000000\n",
       "25%         4.000000\n",
       "50%         5.000000\n",
       "75%         5.000000\n",
       "max         5.000000"
      ]
     },
     "execution_count": 10,
     "metadata": {},
     "output_type": "execute_result"
    }
   ],
   "source": [
    "df_RestMex_train = pd.read_csv(\"Rest-Mex_2025_train.csv\")\n",
    "\n",
    "df_RestMex_train.describe()"
   ]
  },
  {
   "cell_type": "code",
   "execution_count": 11,
   "id": "7cf6dff7",
   "metadata": {},
   "outputs": [
    {
     "name": "stdout",
     "output_type": "stream",
     "text": [
      "Index(['Title', 'Review', 'Polarity', 'Town', 'Region', 'Type'], dtype='object')\n"
     ]
    }
   ],
   "source": [
    "print(df_RestMex_train.columns)"
   ]
  },
  {
   "cell_type": "code",
   "execution_count": null,
   "id": "411b7ecd",
   "metadata": {},
   "outputs": [
    {
     "name": "stdout",
     "output_type": "stream",
     "text": [
      "Town\n",
      "Tulum                         45345\n",
      "Isla_Mujeres                  29826\n",
      "San_Cristobal_de_las_Casas    13060\n",
      "Valladolid                    11637\n",
      "Bacalar                       10822\n",
      "Palenque                       9512\n",
      "Sayulita                       7337\n",
      "Valle_de_Bravo                 5959\n",
      "Teotihuacan                    5810\n",
      "Loreto                         5525\n",
      "TodosSantos                    4600\n",
      "Patzcuaro                      4454\n",
      "Taxco                          4201\n",
      "Tlaquepaque                    4041\n",
      "Ajijic                         3752\n",
      "Tequisquiapan                  3627\n",
      "Metepec                        3532\n",
      "Tepoztlan                      3445\n",
      "Cholula                        2790\n",
      "Tequila                        2650\n",
      "Orizaba                        2521\n",
      "Izamal                         2041\n",
      "Creel                          1786\n",
      "Ixtapan_de_la_Sal              1696\n",
      "Zacatlan                       1602\n",
      "Huasca_de_Ocampo               1509\n",
      "Mazunte                        1466\n",
      "Xilitla                        1458\n",
      "Atlixco                        1444\n",
      "Malinalco                      1429\n",
      "Bernal                         1252\n",
      "Tepotzotlan                    1013\n",
      "Cuetzalan                       996\n",
      "Chiapa_de_Corzo                 960\n",
      "Parras                          953\n",
      "Dolores_Hidalgo                 909\n",
      "Coatepec                        818\n",
      "Cuatro_Cienegas                 788\n",
      "Real_de_Catorce                 760\n",
      "Tapalpa                         725\n",
      "Name: count, dtype: int64\n",
      "40\n"
     ]
    }
   ],
   "source": [
    "print(df_RestMex_train[\"Town\"].value_counts())\n",
    "print(f'Numero de Publos: {len(df_RestMex_train[\"Town\"].unique().tolist())}')"
   ]
  },
  {
   "cell_type": "code",
   "execution_count": 23,
   "id": "7f73f607",
   "metadata": {},
   "outputs": [
    {
     "name": "stdout",
     "output_type": "stream",
     "text": [
      "Region\n",
      "QuintanaRoo           85993\n",
      "Chiapas               23532\n",
      "Estado_de_Mexico      19439\n",
      "Yucatan               13678\n",
      "Jalisco               11168\n",
      "Baja_CaliforniaSur    10125\n",
      "Nayarit                7337\n",
      "Puebla                 6832\n",
      "Queretaro              4879\n",
      "Michoacan              4454\n",
      "Guerrero               4201\n",
      "Morelos                3445\n",
      "Veracruz               3339\n",
      "San_Luis_Potosi        2218\n",
      "Chihuahua              1786\n",
      "Coahuila               1741\n",
      "Hidalgo                1509\n",
      "Oaxaca                 1466\n",
      "Guanajuato              909\n",
      "Name: count, dtype: int64\n",
      "Numero de Regiones: 19\n"
     ]
    }
   ],
   "source": [
    "print(df_RestMex_train[\"Region\"].value_counts())\n",
    "print(f'Numero de Regiones: {len(df_RestMex_train[\"Region\"].unique().tolist())}')"
   ]
  },
  {
   "cell_type": "code",
   "execution_count": null,
   "id": "33be0319",
   "metadata": {},
   "outputs": [
    {
     "name": "stdout",
     "output_type": "stream",
     "text": [
      "Type\n",
      "Restaurant    86720\n",
      "Attractive    69921\n",
      "Hotel         51410\n",
      "Name: count, dtype: int64\n",
      "Numero de Regiones: 3\n"
     ]
    }
   ],
   "source": [
    "print(df_RestMex_train[\"Type\"].value_counts())\n",
    "print(f'Numero de Tipo: {len(df_RestMex_train[\"Type\"].unique().tolist())}')\n"
   ]
  },
  {
   "cell_type": "code",
   "execution_count": 35,
   "id": "b0d3c3d5",
   "metadata": {},
   "outputs": [
    {
     "name": "stdout",
     "output_type": "stream",
     "text": [
      "Polarity                    1.0  2.0   3.0   4.0    5.0\n",
      "Town                                                   \n",
      "Tulum                       798  923  2735  9491  31398\n",
      "Isla_Mujeres                649  686  1951  5756  20784\n",
      "San_Cristobal_de_las_Casas  283  320  1043  2847   8567\n",
      "Bacalar                     287  254   656  1722   7903\n",
      "Valladolid                  285  257   851  2550   7694\n",
      "Palenque                    208  247   776  2228   6053\n",
      "Sayulita                    174  198   610  1712   4643\n",
      "Teotihuacan                 117  100   303  1060   4230\n",
      "Loreto                       83  105   325  1135   3877\n",
      "Valle_de_Bravo              243  201   518  1229   3768\n",
      "TodosSantos                 148  102   298   896   3156\n",
      "Patzcuaro                   127  129   349   950   2899\n",
      "Metepec                      88   66   216   553   2609\n",
      "Ajijic                       86  109   301  1061   2195\n",
      "Tlaquepaque                 251  247   447   943   2153\n",
      "Tequisquiapan               182  147   376   810   2112\n",
      "Taxco                       185  165   496  1249   2106\n",
      "Tepoztlan                   139  141   357   960   1848\n",
      "Cholula                      67   65   211   747   1700\n",
      "Tequila                     104   86   224   557   1679\n",
      "Orizaba                     104   79   234   591   1513\n",
      "Izamal                       33   54   166   553   1235\n",
      "Atlixco                      64   39    87   204   1050\n",
      "Mazunte                      39   39    85   273   1030\n",
      "Xilitla                      27   36   106   286   1003\n",
      "Malinalco                    27   34    96   316    956\n",
      "Creel                        58   83   202   489    954\n",
      "Zacatlan                     59   54   176   457    856\n",
      "Ixtapan_de_la_Sal            93  101   214   473    815\n",
      "Huasca_de_Ocampo             47   53   193   440    776\n",
      "Bernal                       88   70   146   313    635\n",
      "Cuetzalan                    24   32   110   275    555\n",
      "Dolores_Hidalgo              55   26    73   206    549\n",
      "Chiapa_de_Corzo              26   34    90   283    527\n",
      "Parras                       49   50   100   248    506\n",
      "Tepotzotlan                  40   55   144   286    488\n",
      "Real_de_Catorce              18   18    58   203    463\n",
      "Coatepec                     14   30    53   259    462\n",
      "Cuatro_Cienegas              34   38    81   207    428\n",
      "Tapalpa                      38   23    62   216    386\n"
     ]
    }
   ],
   "source": [
    "conteos = df_RestMex_train.groupby([\"Town\", \"Polarity\"]).size().reset_index(name=\"cantidad\")\n",
    "tabla = conteos.pivot(index=\"Town\", columns=\"Polarity\", values=\"cantidad\").fillna(0)\n",
    "tabla = tabla.sort_values(by=5, ascending=False)\n",
    "print(tabla)\n"
   ]
  },
  {
   "cell_type": "code",
   "execution_count": null,
   "id": "ccee0434",
   "metadata": {},
   "outputs": [
    {
     "name": "stdout",
     "output_type": "stream",
     "text": [
      "📌 Evaluaciones por Tipo y Polarity:\n",
      "Polarity     1.0   2.0   3.0    4.0    5.0\n",
      "Type                                      \n",
      "Attractive   868  1079  4895  16719  46360\n",
      "Hotel       2086  2058  4622  11371  31273\n",
      "Restaurant  2487  2359  6002  16944  58928\n",
      "\n",
      "\n",
      "📌 Evaluaciones 'Muy buenas' (Polarity=5) por Tipo:\n",
      "Type\n",
      "Restaurant    2487\n",
      "Hotel         2086\n",
      "Attractive     868\n",
      "Name: count, dtype: int64\n",
      "\n",
      "\n"
     ]
    }
   ],
   "source": [
    "# Cruce Tipo vs Polarity\n",
    "tabla_Type = df_RestMex_train.groupby([\"Type\", \"Polarity\"]).size().reset_index(name=\"cantidad\")\n",
    "tabla_Type_pivot = df_RestMex_train.pivot_table(index=\"Type\", columns=\"Polarity\", \n",
    "                                    values=\"Town\", aggfunc=\"count\", fill_value=0)\n",
    "\n",
    "print(\"📌 Evaluaciones por Tipo y Polarity:\")\n",
    "print(tabla_Type_pivot)\n",
    "print(\"\\n\")\n",
    "\n",
    "# Cuántos 'Muy buenos' (Polarity=5) hay por Tipo\n",
    "muy_bueno_Type = df_RestMex_train[df_RestMex_train[\"Polarity\"] == 1][\"Type\"].value_counts()\n",
    "print(\"📌 Evaluaciones 'Muy buenas' (Polarity=5) por Tipo:\")\n",
    "print(muy_bueno_Type)\n",
    "print(\"\\n\")"
   ]
  },
  {
   "cell_type": "code",
   "execution_count": null,
   "id": "5ed8b846",
   "metadata": {},
   "outputs": [
    {
     "name": "stderr",
     "output_type": "stream",
     "text": [
      "[nltk_data] Downloading package stopwords to\n",
      "[nltk_data]     /home/julianrgx/nltk_data...\n",
      "[nltk_data]   Package stopwords is already up-to-date!\n"
     ]
    }
   ],
   "source": [
    "\n",
    "import re\n",
    "import spacy\n",
    "from wordcloud import WordCloud\n",
    "import matplotlib.pyplot as plt\n",
    "from nltk.corpus import stopwords\n",
    "import nltk\n",
    "\n",
    "# Descargar recursos necesarios\n",
    "nltk.download('stopwords')\n",
    "\n",
    "# Cargar modelo de spaCy en español (puedes cambiar a 'en_core_web_sm' si es en inglés)\n",
    "nlp = spacy.load(\"es_core_news_sm\")\n",
    "\n",
    "# --- Función para limpiar y lematizar ---\n",
    "stop_words = set(stopwords.words(\"spanish\"))\n",
    "\n",
    "def limpiar_texto(texto):\n",
    "    # Pasar a minúsculas\n",
    "    texto = texto.lower()\n",
    "    # Quitar caracteres no alfabéticos\n",
    "    texto = re.sub(r\"[^a-záéíóúñ ]\", \" \", texto)\n",
    "    # Tokenizar y lematizar con spaCy\n",
    "    doc = nlp(texto)\n",
    "    tokens = [\n",
    "        token.lemma_ for token in doc\n",
    "        if token.is_alpha and token.lemma_ not in stop_words and len(token) > 2\n",
    "    ]\n",
    "    return \" \".join(tokens)\n",
    "\n",
    "# --- Aplicar limpieza a la columna Review ---\n",
    "df_RestMex_train[\"Review_clean\"] = df_RestMex_train[\"Review\"].astype(str).apply(limpiar_texto)\n",
    "\n",
    "# --- Generar nubes de palabras ---\n",
    "def generar_nube(region, Polarity):\n",
    "    subset = df_RestMex_train[(df_RestMex_train[\"Region\"] == region) & (df_RestMex_train[\"Polarity\"] == Polarity)]\n",
    "    texto = \" \".join(subset[\"Review_clean\"])\n",
    "    if len(texto.strip()) == 0:\n",
    "        print(f\"No hay texto para {region} - Polarity {Polarity}\")\n",
    "        return\n",
    "    wordcloud = WordCloud(width=800, height=400, background_color=\"white\").generate(texto)\n",
    "    plt.figure(figsize=(10,5))\n",
    "    plt.imshow(wordcloud, interpolation=\"bilinear\")\n",
    "    plt.axis(\"off\")\n",
    "    plt.title(f\"Nube de palabras - {region} - Polarity {Polarity}\")\n",
    "    plt.show()\n",
    "\n",
    "# --- Generar todas las combinaciones Region x Polarity ---\n",
    "for region in df_RestMex_train[\"Region\"].unique():\n",
    "    for p in sorted(df_RestMex_train[\"Polarity\"].unique()):\n",
    "        generar_nube(region, p)\n"
   ]
  }
 ],
 "metadata": {
  "kernelspec": {
   "display_name": "deeplearning",
   "language": "python",
   "name": "python3"
  },
  "language_info": {
   "codemirror_mode": {
    "name": "ipython",
    "version": 3
   },
   "file_extension": ".py",
   "mimetype": "text/x-python",
   "name": "python",
   "nbconvert_exporter": "python",
   "pygments_lexer": "ipython3",
   "version": "3.12.3"
  }
 },
 "nbformat": 4,
 "nbformat_minor": 5
}
